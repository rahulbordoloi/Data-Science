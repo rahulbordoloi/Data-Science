{
  "nbformat": 4,
  "nbformat_minor": 0,
  "metadata": {
    "colab": {
      "name": "Spacy_Twitter_Analysis.ipynb",
      "provenance": [],
      "private_outputs": true,
      "collapsed_sections": []
    },
    "kernelspec": {
      "name": "python3",
      "display_name": "Python 3"
    }
  },
  "cells": [
    {
      "cell_type": "code",
      "metadata": {
        "id": "lNxJfjPCLO-T",
        "colab_type": "code",
        "cellView": "both",
        "colab": {}
      },
      "source": [
        "from google.colab import drive\n",
        "drive.mount('/content/drive')"
      ],
      "execution_count": 0,
      "outputs": []
    },
    {
      "cell_type": "code",
      "metadata": {
        "id": "J8ttgLyyzmWa",
        "colab_type": "code",
        "colab": {}
      },
      "source": [
        "!ls"
      ],
      "execution_count": 0,
      "outputs": []
    },
    {
      "cell_type": "code",
      "metadata": {
        "id": "iXD0KOfCzqps",
        "colab_type": "code",
        "colab": {}
      },
      "source": [
        "!ls '/content/drive/My Drive/Tweet Analysis'"
      ],
      "execution_count": 0,
      "outputs": []
    },
    {
      "cell_type": "code",
      "metadata": {
        "id": "1luyg3jWzy6e",
        "colab_type": "code",
        "colab": {}
      },
      "source": [
        "!ls"
      ],
      "execution_count": 0,
      "outputs": []
    },
    {
      "cell_type": "code",
      "metadata": {
        "id": "vclrTo1rLV0t",
        "colab_type": "code",
        "colab": {}
      },
      "source": [
        "!ls '/content/drive/My Drive/Tweet Analysis/twitter.properties'"
      ],
      "execution_count": 0,
      "outputs": []
    },
    {
      "cell_type": "code",
      "metadata": {
        "id": "6wF2auF-MpVp",
        "colab_type": "code",
        "colab": {}
      },
      "source": [
        "!pip install ConfigParser"
      ],
      "execution_count": 0,
      "outputs": []
    },
    {
      "cell_type": "markdown",
      "metadata": {
        "id": "b-PiMClfrxDu",
        "colab_type": "text"
      },
      "source": [
        "[twitter]\n",
        "accesstoken=xxxx\n",
        "\n",
        "accesstokensecret=xxxx\n",
        "\n",
        "apikey=xxxxxx\n",
        "\n",
        "apisecretkey=xxxxxx\n",
        "\n",
        "googleapikey=xxxxxxx"
      ]
    },
    {
      "cell_type": "code",
      "metadata": {
        "id": "bUTImyaELjg1",
        "colab_type": "code",
        "colab": {}
      },
      "source": [
        "import configparser\n",
        "config = configparser.RawConfigParser()\n",
        "config.read('/content/drive/My Drive/Tweet Analysis/twitter.properties')\n",
        "\n",
        "print(config.sections());\n"
      ],
      "execution_count": 0,
      "outputs": []
    },
    {
      "cell_type": "code",
      "metadata": {
        "id": "T_h2rf6gMm39",
        "colab_type": "code",
        "colab": {}
      },
      "source": [
        "import os\n",
        "import tweepy as tw"
      ],
      "execution_count": 0,
      "outputs": []
    },
    {
      "cell_type": "code",
      "metadata": {
        "colab_type": "code",
        "id": "5XCtRx77kqNk",
        "colab": {}
      },
      "source": [
        "accesstoken=config.get('twitter', 'accesstoken')\n",
        "accesstokensecret=config.get('twitter', 'accesstokensecret')\n",
        "apikey=config.get('twitter', 'apikey')\n",
        "apisecretkey=config.get('twitter', 'apisecretkey')"
      ],
      "execution_count": 0,
      "outputs": []
    },
    {
      "cell_type": "code",
      "metadata": {
        "id": "w6Qdj6yPNds-",
        "colab_type": "code",
        "colab": {}
      },
      "source": [
        "auth = tw.OAuthHandler(apikey, apisecretkey)\n",
        "auth.set_access_token(accesstoken, accesstokensecret)\n",
        "api = tw.API(auth, wait_on_rate_limit=True)"
      ],
      "execution_count": 0,
      "outputs": []
    },
    {
      "cell_type": "code",
      "metadata": {
        "id": "mX8wpgLrR5HU",
        "colab_type": "code",
        "colab": {}
      },
      "source": [
        "search_words = \"#coronavirus\"\n",
        "date_since = \"2020-03-10\""
      ],
      "execution_count": 0,
      "outputs": []
    },
    {
      "cell_type": "code",
      "metadata": {
        "id": "vAOlJY7aSfiT",
        "colab_type": "code",
        "colab": {}
      },
      "source": [
        "tweets = tw.Cursor(api.search,\n",
        "              q=search_words,\n",
        "              lang=\"en\",\n",
        "              since=date_since).items(500)"
      ],
      "execution_count": 0,
      "outputs": []
    },
    {
      "cell_type": "code",
      "metadata": {
        "id": "RdCtP5wJStTb",
        "colab_type": "code",
        "colab": {}
      },
      "source": [
        "tweets"
      ],
      "execution_count": 0,
      "outputs": []
    },
    {
      "cell_type": "code",
      "metadata": {
        "id": "sRwitVyKS7c2",
        "colab_type": "code",
        "colab": {}
      },
      "source": [
        "tweet_details = [[tweet.geo, tweet.text,tweet.user.screen_name, tweet.user.location] for tweet in tweets]\n",
        "#tweet_details"
      ],
      "execution_count": 0,
      "outputs": []
    },
    {
      "cell_type": "code",
      "metadata": {
        "id": "SdVBf0x0Z646",
        "colab_type": "code",
        "colab": {}
      },
      "source": [
        "import pandas as pd"
      ],
      "execution_count": 0,
      "outputs": []
    },
    {
      "cell_type": "code",
      "metadata": {
        "id": "y0URhY_mZE_A",
        "colab_type": "code",
        "colab": {}
      },
      "source": [
        "tweet_df = pd.DataFrame(data=tweet_details, columns=['geo','text','user', \"location\"])"
      ],
      "execution_count": 0,
      "outputs": []
    },
    {
      "cell_type": "code",
      "metadata": {
        "id": "6wdFdf460ZoI",
        "colab_type": "code",
        "colab": {}
      },
      "source": [
        "pd.set_option('max_colwidth', 800)\n",
        "\n",
        "tweet_df.head(20)"
      ],
      "execution_count": 0,
      "outputs": []
    },
    {
      "cell_type": "code",
      "metadata": {
        "id": "R1w33ZGZJKTy",
        "colab_type": "code",
        "colab": {}
      },
      "source": [
        "tweet_df.user.value_counts()"
      ],
      "execution_count": 0,
      "outputs": []
    },
    {
      "cell_type": "code",
      "metadata": {
        "id": "BUU5aYBFJJ2V",
        "colab_type": "code",
        "colab": {}
      },
      "source": [
        "tweet_df.location.value_counts()"
      ],
      "execution_count": 0,
      "outputs": []
    },
    {
      "cell_type": "code",
      "metadata": {
        "id": "lDSp4VwMrUrU",
        "colab_type": "code",
        "colab": {}
      },
      "source": [
        "import re\n",
        "def clean_tweets(text):\n",
        "    text = re.sub(\"RT @[\\w]*:\",\"\",text)\n",
        "    text = re.sub(\"@[\\w]*\",\"\",text)\n",
        "    text = re.sub(\"https?://[A-Za-z0-9./]*\",\"\",text)\n",
        "    text = re.sub(\"\\n\",\"\",text)\n",
        "    return text"
      ],
      "execution_count": 0,
      "outputs": []
    },
    {
      "cell_type": "code",
      "metadata": {
        "id": "Tcpl5OH-rUh_",
        "colab_type": "code",
        "colab": {}
      },
      "source": [
        "tweet_df['text']=tweet_df['text'].apply(lambda x: clean_tweets(x))"
      ],
      "execution_count": 0,
      "outputs": []
    },
    {
      "cell_type": "code",
      "metadata": {
        "id": "lOuzh0n6rfzB",
        "colab_type": "code",
        "colab": {}
      },
      "source": [
        "tweet_df.head(20)"
      ],
      "execution_count": 0,
      "outputs": []
    },
    {
      "cell_type": "code",
      "metadata": {
        "id": "7y_v9rZjiInN",
        "colab_type": "code",
        "colab": {}
      },
      "source": [
        "tweet_df.to_csv('tweets.csv')"
      ],
      "execution_count": 0,
      "outputs": []
    },
    {
      "cell_type": "code",
      "metadata": {
        "id": "RtQ4Lq9ZipA9",
        "colab_type": "code",
        "colab": {}
      },
      "source": [
        "!ls"
      ],
      "execution_count": 0,
      "outputs": []
    },
    {
      "cell_type": "code",
      "metadata": {
        "id": "f2Sl-XzEsRHK",
        "colab_type": "code",
        "colab": {}
      },
      "source": [
        "import spacy \n",
        "  \n",
        "nlp = spacy.load('en_core_web_sm') "
      ],
      "execution_count": 0,
      "outputs": []
    },
    {
      "cell_type": "code",
      "metadata": {
        "id": "MqIv9AhlsXmM",
        "colab_type": "code",
        "colab": {}
      },
      "source": [
        "tweet_df['text'].apply(lambda x: [print(\"\\tText : {}, Entity : {}\".format(ent.text, ent.label_)) if (not ent.text.startswith('#')) else \"\"  for ent in nlp(x).ents])"
      ],
      "execution_count": 0,
      "outputs": []
    },
    {
      "cell_type": "code",
      "metadata": {
        "id": "65GnQEWNsXYI",
        "colab_type": "code",
        "colab": {}
      },
      "source": [
        "tweet_df['entities']=tweet_df['text'].apply(lambda x: [(ent.text, ent.label_) if (not ent.text.startswith('#')) else \"\" for ent in nlp(x).ents])"
      ],
      "execution_count": 0,
      "outputs": []
    },
    {
      "cell_type": "code",
      "metadata": {
        "id": "uljKlvImaeZz",
        "colab_type": "code",
        "colab": {}
      },
      "source": [
        "tweet_df.head(20)"
      ],
      "execution_count": 0,
      "outputs": []
    },
    {
      "cell_type": "code",
      "metadata": {
        "id": "I9GPD6OFfPEJ",
        "colab_type": "code",
        "colab": {}
      },
      "source": [
        "import nltk\n",
        "from nltk.sentiment.vader import SentimentIntensityAnalyzer\n",
        "nltk.download('vader_lexicon')"
      ],
      "execution_count": 0,
      "outputs": []
    },
    {
      "cell_type": "code",
      "metadata": {
        "id": "E5uf78ExfT8a",
        "colab_type": "code",
        "colab": {}
      },
      "source": [
        "sid = SentimentIntensityAnalyzer()"
      ],
      "execution_count": 0,
      "outputs": []
    },
    {
      "cell_type": "code",
      "metadata": {
        "id": "rqP9TZGwfTqc",
        "colab_type": "code",
        "colab": {}
      },
      "source": [
        "tweet_df['sentiment']=tweet_df['text'].apply(lambda x: sid.polarity_scores(x))"
      ],
      "execution_count": 0,
      "outputs": []
    },
    {
      "cell_type": "code",
      "metadata": {
        "id": "M2KimWx_uONe",
        "colab_type": "code",
        "colab": {}
      },
      "source": [
        "tweet_df.head(10)"
      ],
      "execution_count": 0,
      "outputs": []
    },
    {
      "cell_type": "code",
      "metadata": {
        "id": "kMVlszomLnHX",
        "colab_type": "code",
        "colab": {}
      },
      "source": [
        "!pip install googlemaps"
      ],
      "execution_count": 0,
      "outputs": []
    },
    {
      "cell_type": "code",
      "metadata": {
        "id": "2YQXt3iFuOH-",
        "colab_type": "code",
        "colab": {}
      },
      "source": [
        "import googlemaps"
      ],
      "execution_count": 0,
      "outputs": []
    },
    {
      "cell_type": "code",
      "metadata": {
        "colab_type": "code",
        "id": "06zSYmlblIJk",
        "colab": {}
      },
      "source": [
        "gmaps = googlemaps.Client(key=config.get('twitter', 'googleapikey'))\n",
        "\n",
        "geocode_result = gmaps.geocode(tweet_df['location'][1])\n",
        "\n",
        "print(geocode_result)\n",
        "print(geocode_result[0]['formatted_address'])\n",
        "\n",
        "print(geocode_result[0]['formatted_address'].split(\",\")[-1].strip())\n",
        "\n"
      ],
      "execution_count": 0,
      "outputs": []
    },
    {
      "cell_type": "code",
      "metadata": {
        "id": "XEyrVhaz6poH",
        "colab_type": "code",
        "colab": {}
      },
      "source": [
        "def get_country(input):\n",
        "  try:\n",
        "    output=gmaps.geocode(input)[0]['formatted_address'].split(\",\")[-1].strip()\n",
        "  except:\n",
        "    output=\"Error\"\n",
        "  return output"
      ],
      "execution_count": 0,
      "outputs": []
    },
    {
      "cell_type": "code",
      "metadata": {
        "id": "oXIco9QopIT9",
        "colab_type": "code",
        "colab": {}
      },
      "source": [
        "tweet_df['country']=tweet_df['location'].apply(lambda x: \"\" if (not x.strip()) else get_country(x))"
      ],
      "execution_count": 0,
      "outputs": []
    },
    {
      "cell_type": "code",
      "metadata": {
        "id": "AugtL0U_866K",
        "colab_type": "code",
        "colab": {}
      },
      "source": [
        "tweet_df['country'].value_counts()"
      ],
      "execution_count": 0,
      "outputs": []
    },
    {
      "cell_type": "code",
      "metadata": {
        "id": "a2pY-lJvpIP5",
        "colab_type": "code",
        "colab": {}
      },
      "source": [
        "tweet_df.head(10)"
      ],
      "execution_count": 0,
      "outputs": []
    },
    {
      "cell_type": "code",
      "metadata": {
        "id": "GuMUcugxNfnn",
        "colab_type": "code",
        "colab": {}
      },
      "source": [
        "tweet_df.dtypes"
      ],
      "execution_count": 0,
      "outputs": []
    },
    {
      "cell_type": "code",
      "metadata": {
        "id": "QKL1NNV9Nfjg",
        "colab_type": "code",
        "colab": {}
      },
      "source": [
        "tweet_df.to_csv(\"tweets.csv\")"
      ],
      "execution_count": 0,
      "outputs": []
    }
  ]
}