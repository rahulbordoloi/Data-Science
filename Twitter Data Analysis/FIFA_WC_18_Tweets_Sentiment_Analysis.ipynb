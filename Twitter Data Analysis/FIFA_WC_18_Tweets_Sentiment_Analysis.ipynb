{
  "nbformat": 4,
  "nbformat_minor": 0,
  "metadata": {
    "colab": {
      "name": "FIFA_WC_18_Tweets_Sentiment_Analysis.ipynb",
      "provenance": [],
      "collapsed_sections": []
    },
    "kernelspec": {
      "name": "python3",
      "display_name": "Python 3"
    }
  },
  "cells": [
    {
      "cell_type": "markdown",
      "metadata": {
        "id": "xL865sVZunTb",
        "colab_type": "text"
      },
      "source": [
        "# Predefined FIFA Tweets"
      ]
    },
    {
      "cell_type": "code",
      "metadata": {
        "id": "KpgEnnIMXRKj",
        "colab_type": "code",
        "colab": {
          "base_uri": "https://localhost:8080/",
          "height": 122
        },
        "outputId": "5203c326-6295-432f-ef16-a9d89b975c15"
      },
      "source": [
        "from google.colab import drive\n",
        "drive.mount('/gdrive')"
      ],
      "execution_count": 2,
      "outputs": [
        {
          "output_type": "stream",
          "text": [
            "Go to this URL in a browser: https://accounts.google.com/o/oauth2/auth?client_id=947318989803-6bn6qk8qdgf4n4g3pfee6491hc0brc4i.apps.googleusercontent.com&redirect_uri=urn%3aietf%3awg%3aoauth%3a2.0%3aoob&response_type=code&scope=email%20https%3a%2f%2fwww.googleapis.com%2fauth%2fdocs.test%20https%3a%2f%2fwww.googleapis.com%2fauth%2fdrive%20https%3a%2f%2fwww.googleapis.com%2fauth%2fdrive.photos.readonly%20https%3a%2f%2fwww.googleapis.com%2fauth%2fpeopleapi.readonly\n",
            "\n",
            "Enter your authorization code:\n",
            "··········\n",
            "Mounted at /gdrive\n"
          ],
          "name": "stdout"
        }
      ]
    },
    {
      "cell_type": "code",
      "metadata": {
        "id": "1yjFr8LKt7RO",
        "colab_type": "code",
        "colab": {}
      },
      "source": [
        "! ls /gdrive/'My Drive'/'Tweet Analysis'/"
      ],
      "execution_count": 0,
      "outputs": []
    },
    {
      "cell_type": "code",
      "metadata": {
        "id": "WbUC0BarKH46",
        "colab_type": "code",
        "colab": {}
      },
      "source": [
        "import pandas as pd\n",
        "from textblob import TextBlob\n",
        "import matplotlib.pyplot as plt\n",
        "\n",
        "hi=pd.read_csv('/gdrive/My Drive/Tweet Analysis/FIFA.csv')\n",
        "# h['Tweet'].to_pickle('Tweets.pickle')\n",
        "# hi=pd.read_pickle('Tweets.pickle')\n",
        "neut=0\n",
        "pos=0\n",
        "neg=0\n",
        "n=int(input(\"Enter the number of tweets you want to analyse out of 5.3 lac tweets:\"))\n",
        "\n",
        "for i in hi['Tweet'][:n]:\n",
        "    blob=TextBlob(str(i))\n",
        "    # print(blob.sentiment)\n",
        "    if blob.polarity<0:\n",
        "        neg+=1\n",
        "    elif blob.polarity>0:\n",
        "        pos+=1\n",
        "    else:\n",
        "        neut+=1\n",
        "print(\"Number of negative tweets: \",neg)\n",
        "print(\"Number of positive tweets: \",pos)\n",
        "print(\"Number of neutral tweets: \",neut)\n",
        "negp=(neg/n)*100\n",
        "neutp=(neut/n)*100\n",
        "posp=(pos/n)*100\n",
        "print(\"Percentage of negative tweets: \",negp)\n",
        "print(\"Percentage of positive tweets: \",posp)\n",
        "print(\"Percentage of neutral tweets: \",neutp)\n",
        "\n",
        "labels = 'Positive',\"Negative\",\"Neutral\"\n",
        "sizes = [posp,negp,neutp]\n",
        "m=max(posp,negp,neutp)\n",
        "if m==posp:\n",
        "    explode=(0.1,0,0)\n",
        "elif m==negp:\n",
        "    explode = (0, 0.1, 0)\n",
        "else:\n",
        "    explode = (0, 0, 0.1)\n",
        "fig1, ax1 = plt.subplots()\n",
        "ax1.pie(sizes, explode=explode, labels=labels, autopct='%1.1f%%',\n",
        "        shadow=True, startangle=90)\n",
        "ax1.axis('equal')  # Equal aspect ratio ensures that pie is drawn as a circle.\n",
        "\n",
        "plt.show()"
      ],
      "execution_count": 0,
      "outputs": []
    }
  ]
}