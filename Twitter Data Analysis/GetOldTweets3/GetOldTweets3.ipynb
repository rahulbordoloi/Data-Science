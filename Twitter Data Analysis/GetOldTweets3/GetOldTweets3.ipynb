{
  "nbformat": 4,
  "nbformat_minor": 0,
  "metadata": {
    "colab": {
      "name": "GetOldTweets3.ipynb",
      "provenance": [],
      "collapsed_sections": []
    },
    "kernelspec": {
      "name": "python3",
      "display_name": "Python 3"
    }
  },
  "cells": [
    {
      "cell_type": "markdown",
      "metadata": {
        "id": "zdJROV3wsUNj",
        "colab_type": "text"
      },
      "source": [
        "# GetOldTweets"
      ]
    },
    {
      "cell_type": "markdown",
      "metadata": {
        "id": "3OM9F3Q9uBFh",
        "colab_type": "text"
      },
      "source": [
        "Documentation - [Link](https://pypi.org/project/GetOldTweets3/)"
      ]
    },
    {
      "cell_type": "code",
      "metadata": {
        "id": "z8T6wShCsTiC",
        "colab_type": "code",
        "colab": {
          "base_uri": "https://localhost:8080/",
          "height": 193
        },
        "outputId": "e760abcd-7a8a-4bab-8327-545a41b80c5a"
      },
      "source": [
        "!pip install GetOldTweets3"
      ],
      "execution_count": 1,
      "outputs": [
        {
          "output_type": "stream",
          "text": [
            "Collecting GetOldTweets3\n",
            "  Downloading https://files.pythonhosted.org/packages/ed/f4/a00c2a7c90801abc875325bb5416ce9090ac86d06a00cc887131bd73ba45/GetOldTweets3-0.0.11-py3-none-any.whl\n",
            "Collecting pyquery>=1.2.10\n",
            "  Downloading https://files.pythonhosted.org/packages/78/43/95d42e386c61cb639d1a0b94f0c0b9f0b7d6b981ad3c043a836c8b5bc68b/pyquery-1.4.1-py2.py3-none-any.whl\n",
            "Requirement already satisfied: lxml>=3.5.0 in /usr/local/lib/python3.6/dist-packages (from GetOldTweets3) (4.2.6)\n",
            "Collecting cssselect>0.7.9\n",
            "  Downloading https://files.pythonhosted.org/packages/3b/d4/3b5c17f00cce85b9a1e6f91096e1cc8e8ede2e1be8e96b87ce1ed09e92c5/cssselect-1.1.0-py2.py3-none-any.whl\n",
            "Installing collected packages: cssselect, pyquery, GetOldTweets3\n",
            "Successfully installed GetOldTweets3-0.0.11 cssselect-1.1.0 pyquery-1.4.1\n"
          ],
          "name": "stdout"
        }
      ]
    },
    {
      "cell_type": "code",
      "metadata": {
        "id": "KssUcfh6scXQ",
        "colab_type": "code",
        "colab": {
          "base_uri": "https://localhost:8080/",
          "height": 711
        },
        "outputId": "7748d8de-311e-498c-ec73-1a200d1f889d"
      },
      "source": [
        "!GetOldTweets3 -h"
      ],
      "execution_count": 2,
      "outputs": [
        {
          "output_type": "stream",
          "text": [
            "To use this script you can pass the following attributes:\n",
            "       --querysearch: a query text to be matched\n",
            "          --username: a username or a list of usernames (comma or space separated)\n",
            "                      of a specific twitter account(s) (with or without @)\n",
            "--username-from-file: a file with a list of usernames,\n",
            "             --since: a lower bound date in UTC (yyyy-mm-dd)\n",
            "             --until: an upper bound date in UTC (yyyy-mm-dd) (not included)\n",
            "              --near: a reference location area from where tweets were generated\n",
            "            --within: a distance radius from \"near\" location (e.g. 15mi)\n",
            "         --toptweets: only the tweets provided as top tweets by Twitter (no parameters required)\n",
            "         --maxtweets: the maximum number of tweets to retrieve\n",
            "              --lang: the language of tweets\n",
            "             --emoji: \"ignore\" (the default, discards emojis), \"unicode\"\n",
            "                      or \"named\" (replaces with \"Emoji[Name of emoji]\")\n",
            "            --output: a filename to export the results (default is \"output_got.csv\")\n",
            "             --debug: outputs debug information to standard error stream\n",
            "\n",
            "Examples:\n",
            "\n",
            "# Example 1 - Get tweets by query search:\n",
            "GetOldTweets3 --querysearch \"europe refugees\" --maxtweets 10\n",
            "\n",
            "# Example 1 - Get the last 10 top tweets by username:\n",
            "GetOldTweets3 --username \"barackobama\" --toptweets --maxtweets 10\n",
            "\n",
            "# Example 3 - Get tweets by username and bound dates (until date is not included) and preserve emojis as unicode:\n",
            "GetOldTweets3 --username \"barackobama\" --since 2015-09-10 --until 2015-09-12 --maxtweets 10 --emoji unicode\n",
            "\n",
            "# Example 4 - Get tweets by several usernames:\n",
            "GetOldTweets3 --username \"BarackObama,AngelaMerkeICDU\" --usernames-from-file userlist.txt --maxtweets 10\n",
            "\n",
            "# Example 5 - Get tweets by language:\n",
            "GetOldTweets3 --querysearch \"bitcoin\" --lang cn --maxtweets 10 \n",
            "\n",
            "# Example 6 - Get tweets by place:\n",
            "GetOldTweets3 --querysearch \"bitcoin\" --near \"Berlin, Germany\" --within 25km --maxtweets 10 \n",
            "\n",
            "# Example 7 - Get tweets by geo coordinates:\n",
            "GetOldTweets3 --querysearch \"museum\" --near \"55.75, 37.61\" --within 40km --maxtweets 10 \n",
            "\n"
          ],
          "name": "stdout"
        }
      ]
    },
    {
      "cell_type": "code",
      "metadata": {
        "id": "tl_exaChsfhJ",
        "colab_type": "code",
        "colab": {
          "base_uri": "https://localhost:8080/",
          "height": 69
        },
        "outputId": "b8eb10c6-dc2c-4922-bca8-7a0981d96acb"
      },
      "source": [
        "!GetOldTweets3 --querysearch \"lockdown\" --maxtweets 10"
      ],
      "execution_count": 3,
      "outputs": [
        {
          "output_type": "stream",
          "text": [
            "Downloading tweets...\n",
            "\rSaved 10\n",
            "Done. Output file generated \"output_got.csv\".\n"
          ],
          "name": "stdout"
        }
      ]
    },
    {
      "cell_type": "code",
      "metadata": {
        "id": "wPySdp3Xsm36",
        "colab_type": "code",
        "colab": {
          "base_uri": "https://localhost:8080/",
          "height": 69
        },
        "outputId": "946c9351-90b7-45b8-e7ef-029611b67055"
      },
      "source": [
        "!GetOldTweets3 --querysearch \"lockdown\" --near \"New Delhi, India\" --within 50km --maxtweets 10 "
      ],
      "execution_count": 4,
      "outputs": [
        {
          "output_type": "stream",
          "text": [
            "Downloading tweets...\n",
            "\rSaved 10\n",
            "Done. Output file generated \"output_got.csv\".\n"
          ],
          "name": "stdout"
        }
      ]
    },
    {
      "cell_type": "code",
      "metadata": {
        "id": "rS9DVBFeutAY",
        "colab_type": "code",
        "colab": {}
      },
      "source": [
        "import GetOldTweets3 as got"
      ],
      "execution_count": 0,
      "outputs": []
    },
    {
      "cell_type": "code",
      "metadata": {
        "id": "ws0UWCG7t1I0",
        "colab_type": "code",
        "colab": {
          "base_uri": "https://localhost:8080/",
          "height": 35
        },
        "outputId": "93ac5fb9-ef01-4e5f-bec9-d65c0316cafa"
      },
      "source": [
        "tweetCriteria = got.manager.TweetCriteria().setQuerySearch('lockdown')\\\n",
        "                                           .setSince(\"2020-05-20\")\\\n",
        "                                           .setUntil(\"2020-05-21\")\\\n",
        "                                           .setMaxTweets(1)\n",
        "tweet = got.manager.TweetManager.getTweets(tweetCriteria)[0]\n",
        "print(tweet.text)"
      ],
      "execution_count": 14,
      "outputs": [
        {
          "output_type": "stream",
          "text": [
            "No more eye in the sky | Paris police banned from using drones to catch lockdown violators -- RT \n"
          ],
          "name": "stdout"
        }
      ]
    },
    {
      "cell_type": "code",
      "metadata": {
        "id": "hbFvXFdVvos8",
        "colab_type": "code",
        "colab": {
          "base_uri": "https://localhost:8080/",
          "height": 35
        },
        "outputId": "6d097260-5f08-419b-e6d2-49bb3985d167"
      },
      "source": [
        "tweetCriteria = got.manager.TweetCriteria().setUsername(\"DevR07\")\\\n",
        "                                           .setSince(\"2015-09-10\")\\\n",
        "                                           .setUntil(\"2020-05-29\")\\\n",
        "                                           .setMaxTweets(1)\\\n",
        "                                           .setEmoji(\"unicode\")\n",
        "tweet = got.manager.TweetManager.getTweets(tweetCriteria)[0]\n",
        "print(tweet.text)"
      ],
      "execution_count": 15,
      "outputs": [
        {
          "output_type": "stream",
          "text": [
            "Check out my http://dev.to blog post on my recent chatbot.\n"
          ],
          "name": "stdout"
        }
      ]
    },
    {
      "cell_type": "code",
      "metadata": {
        "id": "MdXATgnLvtXs",
        "colab_type": "code",
        "colab": {}
      },
      "source": [
        ""
      ],
      "execution_count": 0,
      "outputs": []
    }
  ]
}