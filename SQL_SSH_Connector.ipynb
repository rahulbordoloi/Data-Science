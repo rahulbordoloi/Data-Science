{
  "nbformat": 4,
  "nbformat_minor": 0,
  "metadata": {
    "colab": {
      "name": "SQL_SSH_Connector.ipynb",
      "provenance": [],
      "collapsed_sections": []
    },
    "kernelspec": {
      "name": "python3",
      "display_name": "Python 3"
    }
  },
  "cells": [
    {
      "cell_type": "markdown",
      "metadata": {
        "id": "2b3zsvQRaKY_"
      },
      "source": [
        "# SQL Connecter Using SSH\n",
        "\n",
        "* Author: Rahul Bordoloi \n",
        "* Email-ID : <rahul.bordoloi@highradius.com>, <rahulbordoloi24@gmail.com>                                                                            \n",
        "* Language & Version - Python 3.8.4"
      ]
    },
    {
      "cell_type": "markdown",
      "metadata": {
        "id": "wONYyKGdaUtC"
      },
      "source": [
        "Note : Connect your Colab Notebook with your Local Jupyter Environment using - <br>\n",
        "```\n",
        "jupyter notebook --NotebookApp.allow_origin='https://colab.research.google.com' --port=8888 --NotebookApp.port_retries=0\n",
        "```"
      ]
    },
    {
      "cell_type": "code",
      "metadata": {
        "id": "hzFkp368XbxC",
        "outputId": "f011d414-1e68-478f-b576-272b1d6dd2f2",
        "colab": {
          "base_uri": "https://localhost:8080/"
        }
      },
      "source": [
        "# Installing Modules\n",
        "!pip install sshtunnel\n",
        "!pip install pymysql"
      ],
      "execution_count": 2,
      "outputs": [
        {
          "output_type": "stream",
          "text": [
            "Collecting sshtunnel\n",
            "  Downloading sshtunnel-0.1.5-py2.py3-none-any.whl (23 kB)\n",
            "Requirement already satisfied: paramiko>=1.15.2 in c:\\programdata\u0007naconda3\\lib\\site-packages (from sshtunnel) (2.7.1)\n",
            "Requirement already satisfied: cryptography>=2.5 in c:\\programdata\u0007naconda3\\lib\\site-packages (from paramiko>=1.15.2->sshtunnel) (2.8)\n",
            "Requirement already satisfied: pynacl>=1.0.1 in c:\\programdata\u0007naconda3\\lib\\site-packages (from paramiko>=1.15.2->sshtunnel) (1.3.0)\n",
            "Requirement already satisfied: bcrypt>=3.1.3 in c:\\programdata\u0007naconda3\\lib\\site-packages (from paramiko>=1.15.2->sshtunnel) (3.1.7)\n",
            "Requirement already satisfied: cffi!=1.11.3,>=1.8 in c:\\personal\\hrc\\hrc\\lib\\site-packages (from cryptography>=2.5->paramiko>=1.15.2->sshtunnel) (1.14.1)\n",
            "Requirement already satisfied: six>=1.4.1 in c:\\personal\\hrc\\hrc\\lib\\site-packages (from cryptography>=2.5->paramiko>=1.15.2->sshtunnel) (1.15.0)\n",
            "Requirement already satisfied: pycparser in c:\\personal\\hrc\\hrc\\lib\\site-packages (from cffi!=1.11.3,>=1.8->cryptography>=2.5->paramiko>=1.15.2->sshtunnel) (2.20)\n",
            "Installing collected packages: sshtunnel\n",
            "Successfully installed sshtunnel-0.1.5\n",
            "Collecting pymysql\n",
            "  Downloading PyMySQL-0.10.1-py2.py3-none-any.whl (47 kB)\n",
            "Installing collected packages: pymysql\n",
            "Successfully installed pymysql-0.10.1\n"
          ],
          "name": "stdout"
        }
      ]
    },
    {
      "cell_type": "code",
      "metadata": {
        "id": "k_mSSlStV5ct"
      },
      "source": [
        "# Importing Libraries\n",
        "from sshtunnel import SSHTunnelForwarder\n",
        "import pymysql as db\n",
        "import pandas as pd\n",
        "import numpy as np"
      ],
      "execution_count": 2,
      "outputs": []
    },
    {
      "cell_type": "code",
      "metadata": {
        "id": "mhW4oFq7Xl-B"
      },
      "source": [
        "# Credentials [PuTTY] [SSH Tunneling]\n",
        "host = 'add@host_IP'                     # IP Address of your Host\n",
        "localhost = 'your@local_address'         # in the form of localhost / 127.0.0.1\n",
        "ssh_username = 'your@ssh_username'\n",
        "ssh_password = 'your@ssh_password'"
      ],
      "execution_count": null,
      "outputs": []
    },
    {
      "cell_type": "code",
      "metadata": {
        "id": "X3-Rx0wabM35"
      },
      "source": [
        "# Database User [SQL DB Credentials]\n",
        "user = 'username@SQLDB'\n",
        "password = 'password@SQLDB'\n",
        "database = 'database_name'               # Name of the Database you'll be working on"
      ],
      "execution_count": null,
      "outputs": []
    },
    {
      "cell_type": "code",
      "metadata": {
        "id": "CuJyaU63b7vQ"
      },
      "source": [
        "# Port Number Information\n",
        "local_port_no = 22                       # Your System's Port Number        \n",
        "host_port_no = 6005                      # SSH Agent's Port Number"
      ],
      "execution_count": null,
      "outputs": []
    },
    {
      "cell_type": "code",
      "metadata": {
        "id": "NA5uHseXWOSn"
      },
      "source": [
        "# Query Function to Connect DB Through SSH Tunneling\n",
        "def query(q):\n",
        "    \n",
        "    \"\"\"\n",
        "    :param q: Query should be passed as Input.\n",
        "    :return: It returns the Output of the Query\n",
        "    \"\"\"\n",
        "    \n",
        "    with SSHTunnelForwarder(\n",
        "        (host, host_port_no),\n",
        "        ssh_username = ssh_username,\n",
        "        ssh_password = ssh_password,\n",
        "        remote_bind_address = (localhost, remote_port_no)\n",
        "    ) as server:\n",
        "        print(server.local_bind_port)\n",
        "        conn = db.connect(host = localhost,\n",
        "                          port = server.local_bind_port,\n",
        "                          user = user,\n",
        "                          passwd = password,\n",
        "                          db = database\n",
        "                         )\n",
        "        return pd.read_sql_query(q, conn)"
      ],
      "execution_count": null,
      "outputs": []
    },
    {
      "cell_type": "code",
      "metadata": {
        "id": "858gmNZCXzhP"
      },
      "source": [
        "# SQL Query\n",
        "sql_query = \"SELECT * FROM invoice_information LIMIT 1;\""
      ],
      "execution_count": null,
      "outputs": []
    },
    {
      "cell_type": "code",
      "metadata": {
        "id": "JqikPMAgX3G-"
      },
      "source": [
        "# Extract Data\n",
        "data = query(sql_query)"
      ],
      "execution_count": null,
      "outputs": []
    },
    {
      "cell_type": "code",
      "metadata": {
        "id": "9eerdxFeX662"
      },
      "source": [
        "# Printing out the DataFrame\n",
        "print(data)"
      ],
      "execution_count": null,
      "outputs": []
    },
    {
      "cell_type": "markdown",
      "metadata": {
        "id": "nwUT916ldyx-"
      },
      "source": [
        "__Note__ : <br>\n",
        "*   The Results are being ommited due to security and privacy purposes."
      ]
    },
    {
      "cell_type": "markdown",
      "metadata": {
        "id": "_LJ2ARD-Z_g1"
      },
      "source": [
        "# End"
      ]
    }
  ]
}